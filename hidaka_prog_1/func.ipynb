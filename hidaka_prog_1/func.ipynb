{
 "cells": [
  {
   "cell_type": "code",
   "execution_count": 5,
   "metadata": {},
   "outputs": [
    {
     "name": "stdout",
     "output_type": "stream",
     "text": [
      "['ai', 'eu', 'salve']\n"
     ]
    }
   ],
   "source": [
    "import funcoes as f\n",
    "L1 = ['a', 'e', 'sal']\n",
    "L2 = ['i', 'u', 've']\n",
    "\n",
    "filtro = f.filter_concatenate(L1,L2)\n",
    "print(filtro)"
   ]
  },
  {
   "cell_type": "code",
   "execution_count": 1,
   "metadata": {},
   "outputs": [
    {
     "name": "stdout",
     "output_type": "stream",
     "text": [
      "3\n"
     ]
    }
   ],
   "source": [
    "import funcoes as f\n",
    "Lista = [5, 3, 4, 7, 10, 2, 3, 13, 25, 1, 1, 8]\n",
    "speed = 15\n",
    "tasks = f.task_completion_backlog(Lista, speed)\n",
    "print(tasks)"
   ]
  },
  {
   "cell_type": "code",
   "execution_count": null,
   "metadata": {},
   "outputs": [],
   "source": []
  }
 ],
 "metadata": {
  "kernelspec": {
   "display_name": "base",
   "language": "python",
   "name": "python3"
  },
  "language_info": {
   "codemirror_mode": {
    "name": "ipython",
    "version": 3
   },
   "file_extension": ".py",
   "mimetype": "text/x-python",
   "name": "python",
   "nbconvert_exporter": "python",
   "pygments_lexer": "ipython3",
   "version": "3.10.4"
  },
  "orig_nbformat": 4
 },
 "nbformat": 4,
 "nbformat_minor": 2
}
