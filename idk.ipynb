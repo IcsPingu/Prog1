{
 "cells": [
  {
   "cell_type": "code",
   "execution_count": 1,
   "metadata": {},
   "outputs": [
    {
     "ename": "SyntaxError",
     "evalue": "incomplete input (730248350.py, line 8)",
     "output_type": "error",
     "traceback": [
      "\u001b[1;36m  Cell \u001b[1;32mIn[1], line 8\u001b[1;36m\u001b[0m\n\u001b[1;33m    def validar_telefone(arg):\u001b[0m\n\u001b[1;37m                              ^\u001b[0m\n\u001b[1;31mSyntaxError\u001b[0m\u001b[1;31m:\u001b[0m incomplete input\n"
     ]
    }
   ],
   "source": [
    "def validar_nascimento(arg):\n",
    "    try:\n",
    "        if not arg.isdigit():\n",
    "            raise Exception(\"Nascimento inválido\")\n",
    "        if 1900 > int(arg) > 2023:\n",
    "            raise  Exception(\"Nascimento inválido\")\n",
    "    except Exception as e:    \n",
    "        print(e)\n",
    "    else:\n",
    "        print(\"Data Válida, Nascimento OK!\")\n",
    "\n",
    "def validar_cpf(arg):\n",
    "    try:\n",
    "        if \n",
    "    pass\n",
    "\n",
    "def validar_rg(arg):\n",
    "    pass\n",
    "\n",
    "def validar_telefone(arg):\n",
    "    pass\n",
    "\n",
    "def validar_uf(arg):\n",
    "    pass\n",
    "\n",
    "def main():\n",
    "    nascimento = input(\"Digite o ano de nascimento: \")\n",
    "    cpf = input(\"Digite o CPF: \")\n",
    "    rg = input(\"Digite o RG: \")\n",
    "    tel = input(\"Digite o telefone: \")\n",
    "    uf = input(\"Digite a unidade federativa: \")\n",
    "\n",
    "    validar_nascimento(nascimento)\n",
    "    validar_cpf(cpf)\n",
    "    validar_rg(rg)\n",
    "    validar_telefone(tel)\n",
    "    validar_uf(uf)"
   ]
  },
  {
   "cell_type": "code",
   "execution_count": null,
   "metadata": {},
   "outputs": [],
   "source": []
  },
  {
   "cell_type": "code",
   "execution_count": null,
   "metadata": {},
   "outputs": [],
   "source": []
  }
 ],
 "metadata": {
  "kernelspec": {
   "display_name": "Python 3",
   "language": "python",
   "name": "python3"
  },
  "language_info": {
   "codemirror_mode": {
    "name": "ipython",
    "version": 3
   },
   "file_extension": ".py",
   "mimetype": "text/x-python",
   "name": "python",
   "nbconvert_exporter": "python",
   "pygments_lexer": "ipython3",
   "version": "3.10.4"
  }
 },
 "nbformat": 4,
 "nbformat_minor": 2
}
